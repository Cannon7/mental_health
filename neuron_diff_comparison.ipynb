{
 "cells": [
  {
   "cell_type": "code",
   "execution_count": null,
   "id": "d628b18c",
   "metadata": {},
   "outputs": [],
   "source": [
    "# # Comparing Neuron Activations Across Prompts with TransformerLens"
   ]
  },
  {
   "cell_type": "code",
   "execution_count": null,
   "id": "4ef65b20",
   "metadata": {},
   "outputs": [],
   "source": [
    "import torch\n",
    "import torch.nn as nn\n",
    "import torch.nn.functional as F\n",
    "import matplotlib.pyplot as plt\n",
    "import seaborn as sns\n",
    "from transformer_lens import HookedTransformer"
   ]
  },
  {
   "cell_type": "code",
   "execution_count": null,
   "id": "aa17f6c4",
   "metadata": {},
   "outputs": [],
   "source": [
    "# ## Config"
   ]
  },
  {
   "cell_type": "code",
   "execution_count": null,
   "id": "5ea2b354",
   "metadata": {},
   "outputs": [],
   "source": [
    "model_name = \"gpt2-small\"\n",
    "layer_idx = 6\n",
    "act_name = f\"blocks.{layer_idx}.mlp.hook_post\"  # MLP post-layer hook\n",
    "device = \"cuda\" if torch.cuda.is_available() else \"cpu\""
   ]
  },
  {
   "cell_type": "code",
   "execution_count": null,
   "id": "5359b461",
   "metadata": {},
   "outputs": [],
   "source": [
    "prompt_1 = \"The cat sat on the mat.\"\n",
    "prompt_2 = \"The kitten sat on the mat.\""
   ]
  },
  {
   "cell_type": "code",
   "execution_count": null,
   "id": "82ee5cec",
   "metadata": {},
   "outputs": [],
   "source": [
    "# ## Load Model"
   ]
  },
  {
   "cell_type": "code",
   "execution_count": null,
   "id": "c6aeafc5",
   "metadata": {},
   "outputs": [],
   "source": [
    "model = HookedTransformer.from_pretrained(model_name).to(device).eval()"
   ]
  },
  {
   "cell_type": "code",
   "execution_count": null,
   "id": "2bf4da76",
   "metadata": {},
   "outputs": [],
   "source": [
    "# ## Activation Extraction"
   ]
  },
  {
   "cell_type": "code",
   "execution_count": null,
   "id": "42523667",
   "metadata": {},
   "outputs": [],
   "source": [
    "def get_activations(prompt):\n",
    "    tokens = model.to_tokens(prompt).to(device)\n",
    "    _, cache = model.run_with_cache(tokens)\n",
    "    return cache[act_name].squeeze(0), tokens"
   ]
  },
  {
   "cell_type": "code",
   "execution_count": null,
   "id": "209cd816",
   "metadata": {},
   "outputs": [],
   "source": [
    "act_1, tokens_1 = get_activations(prompt_1)\n",
    "act_2, tokens_2 = get_activations(prompt_2)"
   ]
  },
  {
   "cell_type": "code",
   "execution_count": null,
   "id": "2ad3c453",
   "metadata": {},
   "outputs": [],
   "source": [
    "# Align lengths\n",
    "min_len = min(act_1.shape[0], act_2.shape[0])\n",
    "act_1, act_2 = act_1[:min_len], act_2[:min_len]\n",
    "tokens_1 = tokens_1[0, :min_len]"
   ]
  },
  {
   "cell_type": "code",
   "execution_count": null,
   "id": "4b3ef695",
   "metadata": {},
   "outputs": [],
   "source": [
    "# ## MLP Transcoder"
   ]
  },
  {
   "cell_type": "code",
   "execution_count": null,
   "id": "3a973c02",
   "metadata": {},
   "outputs": [],
   "source": [
    "class MLPTranscoder(nn.Module):\n",
    "    def __init__(self, dim):\n",
    "        super().__init__()\n",
    "        self.net = nn.Sequential(\n",
    "            nn.Linear(dim, dim),\n",
    "            nn.ReLU(),\n",
    "            nn.Linear(dim, dim),\n",
    "        )"
   ]
  },
  {
   "cell_type": "code",
   "execution_count": null,
   "id": "8c5830f6",
   "metadata": {},
   "outputs": [],
   "source": [
    "def forward(self, x):\n",
    "        return self.net(x)"
   ]
  },
  {
   "cell_type": "code",
   "execution_count": null,
   "id": "4cf0c75b",
   "metadata": {},
   "outputs": [],
   "source": [
    "transcoder = MLPTranscoder(act_1.size(-1)).to(device)"
   ]
  },
  {
   "cell_type": "code",
   "execution_count": null,
   "id": "fc28ed77",
   "metadata": {},
   "outputs": [],
   "source": [
    "# ## Training"
   ]
  },
  {
   "cell_type": "code",
   "execution_count": null,
   "id": "f0d8594a",
   "metadata": {},
   "outputs": [],
   "source": [
    "optimizer = torch.optim.Adam(transcoder.parameters(), lr=1e-3)\n",
    "loss_fn = nn.MSELoss()"
   ]
  },
  {
   "cell_type": "code",
   "execution_count": null,
   "id": "a2bfc60f",
   "metadata": {},
   "outputs": [],
   "source": [
    "for step in range(1000):\n",
    "    optimizer.zero_grad()\n",
    "    output = transcoder(act_1)\n",
    "    loss = loss_fn(output, act_2)\n",
    "    loss.backward()\n",
    "    optimizer.step()\n",
    "    if step % 100 == 0:\n",
    "        print(f\"Step {step}: Loss = {loss.item():.4f}\")"
   ]
  },
  {
   "cell_type": "code",
   "execution_count": null,
   "id": "79698584",
   "metadata": {},
   "outputs": [],
   "source": [
    "# ## Evaluation"
   ]
  },
  {
   "cell_type": "code",
   "execution_count": null,
   "id": "22e85a99",
   "metadata": {},
   "outputs": [],
   "source": [
    "with torch.no_grad():\n",
    "    aligned = transcoder(act_1)\n",
    "    cosine = F.cosine_similarity(aligned, act_2, dim=-1).mean().item()\n",
    "    mse = F.mse_loss(aligned, act_2).item()"
   ]
  },
  {
   "cell_type": "code",
   "execution_count": null,
   "id": "ffcaa258",
   "metadata": {},
   "outputs": [],
   "source": [
    "print(f\"\\nFinal Cosine Similarity: {cosine:.4f}\")\n",
    "print(f\"Final MSE: {mse:.4f}\")"
   ]
  },
  {
   "cell_type": "code",
   "execution_count": null,
   "id": "9645e9ca",
   "metadata": {},
   "outputs": [],
   "source": [
    "# ## Neuron-Wise Difference (Bar Plot)"
   ]
  },
  {
   "cell_type": "code",
   "execution_count": null,
   "id": "6a7a8672",
   "metadata": {},
   "outputs": [],
   "source": [
    "with torch.no_grad():\n",
    "    mean_act_1 = act_1.mean(dim=0)\n",
    "    mean_act_2 = act_2.mean(dim=0)\n",
    "    neuron_diff = (mean_act_1 - mean_act_2).abs().cpu()"
   ]
  },
  {
   "cell_type": "code",
   "execution_count": null,
   "id": "f4735a2e",
   "metadata": {},
   "outputs": [],
   "source": [
    "topk = 20\n",
    "topk_vals, topk_idx = torch.topk(neuron_diff, topk)"
   ]
  },
  {
   "cell_type": "code",
   "execution_count": null,
   "id": "e5f948a4",
   "metadata": {},
   "outputs": [],
   "source": [
    "plt.figure(figsize=(12, 4))\n",
    "plt.bar(range(topk), topk_vals.numpy())\n",
    "plt.xticks(range(topk), topk_idx.numpy(), rotation=45)\n",
    "plt.title(f\"Top {topk} Differing Neurons in MLP Layer {layer_idx}\")\n",
    "plt.xlabel(\"Neuron Index\")\n",
    "plt.ylabel(\"Activation Difference (abs)\")\n",
    "plt.tight_layout()\n",
    "plt.show()"
   ]
  },
  {
   "cell_type": "code",
   "execution_count": null,
   "id": "3d9b5636",
   "metadata": {},
   "outputs": [],
   "source": [
    "# ## Token-wise Neuron Difference (Heatmap)"
   ]
  },
  {
   "cell_type": "code",
   "execution_count": null,
   "id": "0d6d71f8",
   "metadata": {},
   "outputs": [],
   "source": [
    "diff_matrix = (act_1 - act_2).abs().cpu().numpy()\n",
    "token_labels = model.to_str_tokens(tokens_1)"
   ]
  },
  {
   "cell_type": "code",
   "execution_count": null,
   "id": "410f5346",
   "metadata": {},
   "outputs": [],
   "source": [
    "plt.figure(figsize=(14, 6))\n",
    "sns.heatmap(diff_matrix.T, cmap=\"viridis\", cbar=True, xticklabels=token_labels, yticklabels=False)\n",
    "plt.title(f\"Neuron-wise Differences over Tokens (Layer {layer_idx})\")\n",
    "plt.xlabel(\"Token\")\n",
    "plt.ylabel(\"Neuron Index\")\n",
    "plt.xticks(rotation=45)\n",
    "plt.tight_layout()\n",
    "plt.show()"
   ]
  }
 ],
 "metadata": {},
 "nbformat": 4,
 "nbformat_minor": 5
}
